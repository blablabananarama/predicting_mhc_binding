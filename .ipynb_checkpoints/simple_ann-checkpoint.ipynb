{
 "cells": [
  {
   "cell_type": "code",
   "execution_count": 338,
   "metadata": {},
   "outputs": [],
   "source": [
    "import keras"
   ]
  },
  {
   "cell_type": "code",
   "execution_count": 339,
   "metadata": {},
   "outputs": [],
   "source": [
    "from keras.models import Sequential\n",
    "from keras.layers import Dense"
   ]
  },
  {
   "cell_type": "code",
   "execution_count": 340,
   "metadata": {},
   "outputs": [],
   "source": [
    "import numpy as np\n",
    "import matplotlib.pyplot as plt"
   ]
  },
  {
   "cell_type": "code",
   "execution_count": 341,
   "metadata": {},
   "outputs": [],
   "source": [
    "np.random.seed(7)"
   ]
  },
  {
   "cell_type": "markdown",
   "metadata": {},
   "source": [
    "# Load data"
   ]
  },
  {
   "cell_type": "code",
   "execution_count": 342,
   "metadata": {},
   "outputs": [],
   "source": [
    "train_data = \"A0201/f000\"\n",
    "valid_data = \"A0201/c000\""
   ]
  },
  {
   "cell_type": "markdown",
   "metadata": {},
   "source": [
    "# Arguments"
   ]
  },
  {
   "cell_type": "code",
   "execution_count": 343,
   "metadata": {},
   "outputs": [],
   "source": [
    "MAX_PEP_SEQ_LEN=9"
   ]
  },
  {
   "cell_type": "markdown",
   "metadata": {},
   "source": [
    "# Functions"
   ]
  },
  {
   "cell_type": "code",
   "execution_count": 344,
   "metadata": {},
   "outputs": [],
   "source": [
    "def read_pep(filename, MAX_PEP_SEQ_LEN):\n",
    "    '''\n",
    "    read AA seq of peptides and MHC molecule from text file\n",
    "    parameters:\n",
    "        - filename : file in which data is stored\n",
    "    returns:\n",
    "        - pep_aa : list of amino acid sequences of peptides (as string)\n",
    "        - target : list of log transformed IC50 binding values\n",
    "    '''\n",
    "    pep_aa = []\n",
    "    target = []\n",
    "    infile = open(filename, \"r\")\n",
    "\n",
    "    for l in infile:\n",
    "        l = l.strip().split()\n",
    "        assert len(l) == 3\n",
    "        if len(l[0]) <= MAX_PEP_SEQ_LEN:\n",
    "            pep_aa.append(l[0])\n",
    "            target.append(l[1])\n",
    "    infile.close()\n",
    "\n",
    "    return pep_aa, target"
   ]
  },
  {
   "cell_type": "code",
   "execution_count": 345,
   "metadata": {},
   "outputs": [],
   "source": [
    "def read_blosum_MN(filename):\n",
    "    '''\n",
    "    read in BLOSUM matrix\n",
    "    parameters:\n",
    "        - filename : file containing BLOSUM matrix\n",
    "    returns:\n",
    "        - blosum : dictionnary AA -> blosum encoding (as list)\n",
    "    '''\n",
    "\n",
    "    # read BLOSUM matrix:\n",
    "    blosumfile = open(filename, \"r\")\n",
    "    blosum = {}\n",
    "    B_idx = 99\n",
    "    Z_idx = 99\n",
    "    star_idx = 99\n",
    "\n",
    "    for l in blosumfile:\n",
    "        l = l.strip()\n",
    "\n",
    "        if l[0] != '#':\n",
    "            l = l.strip().split()\n",
    "\n",
    "            if (l[0] == 'A') and (B_idx==99):\n",
    "                B_idx = l.index('B')\n",
    "                Z_idx = l.index('Z')\n",
    "                star_idx = l.index('*')\n",
    "            else:\n",
    "                aa = str(l[0])\n",
    "                if (aa != 'B') &  (aa != 'Z') & (aa != '*'):\n",
    "                    tmp = l[1:len(l)]\n",
    "                    # tmp = [float(i) for i in tmp]\n",
    "                    # get rid of BJZ*:\n",
    "                    tmp2 = []\n",
    "                    for i in range(0, len(tmp)):\n",
    "                        if (i != B_idx) &  (i != Z_idx) & (i != star_idx):\n",
    "                            tmp2.append(float(tmp[i]))\n",
    "\n",
    "                    #save in BLOSUM matrix\n",
    "                    blosum[aa] = tmp2\n",
    "    blosumfile.close()\n",
    "    return(blosum)\n"
   ]
  },
  {
   "cell_type": "code",
   "execution_count": 346,
   "metadata": {},
   "outputs": [],
   "source": [
    "def encode_pep(Xin, max_pep_seq_len):\n",
    "    '''\n",
    "    encode AA seq of peptides using BLOSUM50\n",
    "    parameters:\n",
    "        - Xin : list of peptide sequences in AA\n",
    "    returns:\n",
    "        - Xout : encoded peptide seuqneces (batch_size, max_pep_seq_len, n_features)\n",
    "    '''\n",
    "    # read encoding matrix:\n",
    "    blosum = read_blosum_MN('BLOSUM50')\n",
    "    n_features = len(blosum['A'])\n",
    "    n_seqs = len(Xin)\n",
    "\n",
    "    # make variable to store output:\n",
    "    Xout = np.zeros((n_seqs, max_pep_seq_len, n_features),\n",
    "                       dtype=np.uint8)\n",
    "\n",
    "    for i in range(0, len(Xin)):\n",
    "        for j in range(0, len(Xin[i])):\n",
    "            Xout[i, j, :n_features] = blosum[ Xin[i][j] ]\n",
    "    return Xout"
   ]
  },
  {
   "cell_type": "markdown",
   "metadata": {},
   "source": [
    "# Main"
   ]
  },
  {
   "cell_type": "markdown",
   "metadata": {},
   "source": [
    "## Read data"
   ]
  },
  {
   "cell_type": "code",
   "execution_count": 347,
   "metadata": {},
   "outputs": [],
   "source": [
    "# read in peptide sequences and targets:\n",
    "X_train_raw, y_train_raw = read_pep(train_data, MAX_PEP_SEQ_LEN)\n",
    "X_val_raw, y_val_raw = read_pep(valid_data, MAX_PEP_SEQ_LEN)"
   ]
  },
  {
   "cell_type": "markdown",
   "metadata": {},
   "source": [
    "## Encode data"
   ]
  },
  {
   "cell_type": "code",
   "execution_count": 348,
   "metadata": {},
   "outputs": [],
   "source": [
    "# encode data using BLOSUM50:\n",
    "X_train = encode_pep(X_train_raw, MAX_PEP_SEQ_LEN)\n",
    "y_train = np.array(y_train_raw)\n",
    "X_val = encode_pep(X_val_raw, MAX_PEP_SEQ_LEN)\n",
    "y_val = np.array(y_val_raw)"
   ]
  },
  {
   "cell_type": "code",
   "execution_count": 349,
   "metadata": {},
   "outputs": [
    {
     "name": "stdout",
     "output_type": "stream",
     "text": [
      "(2471, 9, 21)\n",
      "(618, 9, 21)\n"
     ]
    }
   ],
   "source": [
    "# data dimensions now:\n",
    "# (N_SEQS, SEQ_LENGTH, N_FEATURES)\n",
    "print(X_train.shape)\n",
    "print(X_val.shape)\n",
    "\n",
    "n_features = X_train.shape[2]"
   ]
  },
  {
   "cell_type": "code",
   "execution_count": 350,
   "metadata": {},
   "outputs": [],
   "source": [
    "# Reshape data\n",
    "X_train = X_train.reshape(X_train.shape[0], -1)\n",
    "X_val = X_val.reshape(X_val.shape[0], -1)"
   ]
  },
  {
   "cell_type": "markdown",
   "metadata": {},
   "source": [
    "## Compile model"
   ]
  },
  {
   "cell_type": "code",
   "execution_count": 363,
   "metadata": {},
   "outputs": [
    {
     "name": "stderr",
     "output_type": "stream",
     "text": [
      "C:\\Users\\mvlor\\AppData\\Local\\Continuum\\anaconda3\\lib\\site-packages\\ipykernel_launcher.py:4: UserWarning: Update your `Dense` call to the Keras 2 API: `Dense(400, input_dim=189, activation=\"relu\", kernel_regularizer=<keras.reg..., kernel_initializer=\"uniform\")`\n",
      "  after removing the cwd from sys.path.\n",
      "C:\\Users\\mvlor\\AppData\\Local\\Continuum\\anaconda3\\lib\\site-packages\\ipykernel_launcher.py:5: UserWarning: Update your `Dense` call to the Keras 2 API: `Dense(50, activation=\"sigmoid\", kernel_initializer=\"uniform\")`\n",
      "  \"\"\"\n",
      "C:\\Users\\mvlor\\AppData\\Local\\Continuum\\anaconda3\\lib\\site-packages\\ipykernel_launcher.py:6: UserWarning: Update your `Dense` call to the Keras 2 API: `Dense(10, activation=\"relu\", kernel_initializer=\"uniform\")`\n",
      "  \n",
      "C:\\Users\\mvlor\\AppData\\Local\\Continuum\\anaconda3\\lib\\site-packages\\ipykernel_launcher.py:7: UserWarning: Update your `Dense` call to the Keras 2 API: `Dense(1, activation=\"sigmoid\", kernel_initializer=\"uniform\")`\n",
      "  import sys\n"
     ]
    }
   ],
   "source": [
    "# create model\n",
    "model = Sequential()\n",
    "keras.layers.normalization.BatchNormalization(epsilon=1e-06, momentum=0.95, weights=None)\n",
    "model.add(Dense(20*20, input_dim=MAX_PEP_SEQ_LEN * n_features, activation='relu', init='uniform', kernel_regularizer=keras.regularizers.l2(l=0.1)))\n",
    "model.add(Dense(50, activation='sigmoid', init='uniform'))\n",
    "model.add(Dense(10, activation='relu', init='uniform'))\n",
    "model.add(Dense(1, activation='sigmoid', init='uniform'))\n",
    "\n",
    "# Compile model\n",
    "model.compile(loss='binary_crossentropy', optimizer='adam', metrics=['accuracy'],)"
   ]
  },
  {
   "cell_type": "code",
   "execution_count": 364,
   "metadata": {},
   "outputs": [
    {
     "name": "stdout",
     "output_type": "stream",
     "text": [
      "_________________________________________________________________\n",
      "Layer (type)                 Output Shape              Param #   \n",
      "=================================================================\n",
      "dense_144 (Dense)            (None, 400)               76000     \n",
      "_________________________________________________________________\n",
      "dense_145 (Dense)            (None, 50)                20050     \n",
      "_________________________________________________________________\n",
      "dense_146 (Dense)            (None, 10)                510       \n",
      "_________________________________________________________________\n",
      "dense_147 (Dense)            (None, 1)                 11        \n",
      "=================================================================\n",
      "Total params: 96,571\n",
      "Trainable params: 96,571\n",
      "Non-trainable params: 0\n",
      "_________________________________________________________________\n"
     ]
    }
   ],
   "source": [
    "model.summary()"
   ]
  },
  {
   "cell_type": "markdown",
   "metadata": {},
   "source": [
    "## Fit model"
   ]
  },
  {
   "cell_type": "code",
   "execution_count": 365,
   "metadata": {},
   "outputs": [],
   "source": [
    "EPOCHS = 200\n",
    "MINI_BATCH_SIZE = 50"
   ]
  },
  {
   "cell_type": "code",
   "execution_count": 366,
   "metadata": {
    "scrolled": true
   },
   "outputs": [
    {
     "name": "stdout",
     "output_type": "stream",
     "text": [
      "Train on 2471 samples, validate on 618 samples\n",
      "Epoch 1/200\n",
      "2471/2471 [==============================] - 3s 1ms/step - loss: 2.4614 - acc: 0.0801 - val_loss: 0.7215 - val_acc: 0.0809\n",
      "Epoch 2/200\n",
      "2471/2471 [==============================] - 0s 100us/step - loss: 0.6537 - acc: 0.0817 - val_loss: 0.6201 - val_acc: 0.0809\n",
      "Epoch 3/200\n",
      "2471/2471 [==============================] - 0s 101us/step - loss: 0.5939 - acc: 0.0975 - val_loss: 0.5919 - val_acc: 0.1133\n",
      "Epoch 4/200\n",
      "2471/2471 [==============================] - 0s 107us/step - loss: 0.5719 - acc: 0.1133 - val_loss: 0.5609 - val_acc: 0.1149\n",
      "Epoch 5/200\n",
      "2471/2471 [==============================] - 0s 104us/step - loss: 0.5820 - acc: 0.1105 - val_loss: 0.5912 - val_acc: 0.0987\n",
      "Epoch 6/200\n",
      "2471/2471 [==============================] - 0s 106us/step - loss: 0.5786 - acc: 0.1149 - val_loss: 0.5862 - val_acc: 0.1117\n",
      "Epoch 7/200\n",
      "2471/2471 [==============================] - 0s 148us/step - loss: 0.5806 - acc: 0.1121 - val_loss: 0.5718 - val_acc: 0.1149\n",
      "Epoch 8/200\n",
      "2471/2471 [==============================] - 0s 152us/step - loss: 0.5795 - acc: 0.1137 - val_loss: 0.6066 - val_acc: 0.1100\n",
      "Epoch 9/200\n",
      "2471/2471 [==============================] - 0s 178us/step - loss: 0.6036 - acc: 0.1089 - val_loss: 0.6414 - val_acc: 0.1133\n",
      "Epoch 10/200\n",
      "2471/2471 [==============================] - 0s 130us/step - loss: 0.5871 - acc: 0.1153 - val_loss: 0.5914 - val_acc: 0.1117\n",
      "Epoch 11/200\n",
      "2471/2471 [==============================] - 0s 133us/step - loss: 0.5838 - acc: 0.1121 - val_loss: 0.5733 - val_acc: 0.1133\n",
      "Epoch 12/200\n",
      "2471/2471 [==============================] - 0s 137us/step - loss: 0.5900 - acc: 0.1133 - val_loss: 0.6294 - val_acc: 0.0987\n",
      "Epoch 13/200\n",
      "2471/2471 [==============================] - 0s 135us/step - loss: 0.5992 - acc: 0.1085 - val_loss: 0.5705 - val_acc: 0.1084\n",
      "Epoch 14/200\n",
      "2471/2471 [==============================] - 0s 130us/step - loss: 0.5824 - acc: 0.1141 - val_loss: 0.5643 - val_acc: 0.1133\n",
      "Epoch 15/200\n",
      "2471/2471 [==============================] - 0s 155us/step - loss: 0.5872 - acc: 0.1133 - val_loss: 0.5951 - val_acc: 0.0971\n",
      "Epoch 16/200\n",
      "2471/2471 [==============================] - 0s 140us/step - loss: 0.5788 - acc: 0.1121 - val_loss: 0.6122 - val_acc: 0.1084\n",
      "Epoch 17/200\n",
      "2471/2471 [==============================] - 0s 114us/step - loss: 0.5845 - acc: 0.1133 - val_loss: 0.5795 - val_acc: 0.1117\n",
      "Epoch 18/200\n",
      "2471/2471 [==============================] - 0s 135us/step - loss: 0.5880 - acc: 0.1117 - val_loss: 0.6104 - val_acc: 0.1133\n",
      "Epoch 19/200\n",
      "2471/2471 [==============================] - 0s 129us/step - loss: 0.5931 - acc: 0.1129 - val_loss: 0.5926 - val_acc: 0.1149\n",
      "Epoch 20/200\n",
      "2471/2471 [==============================] - 0s 117us/step - loss: 0.6028 - acc: 0.1141 - val_loss: 0.6046 - val_acc: 0.1133\n",
      "Epoch 21/200\n",
      "2471/2471 [==============================] - 0s 134us/step - loss: 0.5997 - acc: 0.1129 - val_loss: 0.5862 - val_acc: 0.1100\n",
      "Epoch 22/200\n",
      "2471/2471 [==============================] - 0s 141us/step - loss: 0.5909 - acc: 0.1153 - val_loss: 0.5863 - val_acc: 0.0971\n",
      "Epoch 23/200\n",
      "2471/2471 [==============================] - 0s 145us/step - loss: 0.5911 - acc: 0.1085 - val_loss: 0.5843 - val_acc: 0.1100\n",
      "Epoch 24/200\n",
      "2471/2471 [==============================] - 0s 135us/step - loss: 0.6016 - acc: 0.1105 - val_loss: 0.6383 - val_acc: 0.0874\n",
      "Epoch 25/200\n",
      "2471/2471 [==============================] - 0s 137us/step - loss: 0.5877 - acc: 0.1121 - val_loss: 0.5901 - val_acc: 0.1117\n",
      "Epoch 26/200\n",
      "2471/2471 [==============================] - 0s 115us/step - loss: 0.5889 - acc: 0.1101 - val_loss: 0.6017 - val_acc: 0.1149\n",
      "Epoch 27/200\n",
      "2471/2471 [==============================] - 0s 127us/step - loss: 0.5974 - acc: 0.1153 - val_loss: 0.6083 - val_acc: 0.1133\n",
      "Epoch 28/200\n",
      "2471/2471 [==============================] - 0s 137us/step - loss: 0.5911 - acc: 0.1129 - val_loss: 0.6324 - val_acc: 0.1133\n",
      "Epoch 29/200\n",
      "2471/2471 [==============================] - 0s 132us/step - loss: 0.5957 - acc: 0.1129 - val_loss: 0.6547 - val_acc: 0.0809\n",
      "Epoch 30/200\n",
      "2471/2471 [==============================] - 0s 135us/step - loss: 0.6105 - acc: 0.1109 - val_loss: 0.6077 - val_acc: 0.1133\n",
      "Epoch 31/200\n",
      "2471/2471 [==============================] - 0s 171us/step - loss: 0.6038 - acc: 0.1133 - val_loss: 0.6137 - val_acc: 0.1003\n",
      "Epoch 32/200\n",
      "2471/2471 [==============================] - 0s 146us/step - loss: 0.5893 - acc: 0.1129 - val_loss: 0.5780 - val_acc: 0.1117\n",
      "Epoch 33/200\n",
      "2471/2471 [==============================] - 0s 154us/step - loss: 0.5977 - acc: 0.1109 - val_loss: 0.5951 - val_acc: 0.1117\n",
      "Epoch 34/200\n",
      "2471/2471 [==============================] - 0s 124us/step - loss: 0.5742 - acc: 0.1153 - val_loss: 0.5679 - val_acc: 0.1117\n",
      "Epoch 35/200\n",
      "2471/2471 [==============================] - 0s 134us/step - loss: 0.5991 - acc: 0.1129 - val_loss: 0.6035 - val_acc: 0.1100\n",
      "Epoch 36/200\n",
      "2471/2471 [==============================] - 0s 122us/step - loss: 0.5805 - acc: 0.1125 - val_loss: 0.6015 - val_acc: 0.1181\n",
      "Epoch 37/200\n",
      "2471/2471 [==============================] - 0s 106us/step - loss: 0.6073 - acc: 0.1048 - val_loss: 0.5752 - val_acc: 0.1133\n",
      "Epoch 38/200\n",
      "2471/2471 [==============================] - 0s 100us/step - loss: 0.5724 - acc: 0.1149 - val_loss: 0.5769 - val_acc: 0.1117\n",
      "Epoch 39/200\n",
      "2471/2471 [==============================] - 0s 98us/step - loss: 0.5764 - acc: 0.1129 - val_loss: 0.5916 - val_acc: 0.1133\n",
      "Epoch 40/200\n",
      "2471/2471 [==============================] - 0s 93us/step - loss: 0.5814 - acc: 0.1141 - val_loss: 0.5844 - val_acc: 0.1149\n",
      "Epoch 41/200\n",
      "2471/2471 [==============================] - 0s 107us/step - loss: 0.5792 - acc: 0.1166 - val_loss: 0.5846 - val_acc: 0.1149\n",
      "Epoch 42/200\n",
      "2471/2471 [==============================] - 0s 112us/step - loss: 0.5975 - acc: 0.1105 - val_loss: 0.5802 - val_acc: 0.1149\n",
      "Epoch 43/200\n",
      "2471/2471 [==============================] - 0s 115us/step - loss: 0.6041 - acc: 0.1117 - val_loss: 0.6843 - val_acc: 0.0809\n",
      "Epoch 44/200\n",
      "2471/2471 [==============================] - 0s 110us/step - loss: 0.6091 - acc: 0.1040 - val_loss: 0.6073 - val_acc: 0.1036\n",
      "Epoch 45/200\n",
      "2471/2471 [==============================] - 0s 108us/step - loss: 0.6198 - acc: 0.1060 - val_loss: 0.6916 - val_acc: 0.0809\n",
      "Epoch 46/200\n",
      "2471/2471 [==============================] - 0s 98us/step - loss: 0.6150 - acc: 0.1028 - val_loss: 0.5814 - val_acc: 0.1165\n",
      "Epoch 47/200\n",
      "2471/2471 [==============================] - 0s 106us/step - loss: 0.5723 - acc: 0.1145 - val_loss: 0.5631 - val_acc: 0.1133\n",
      "Epoch 48/200\n",
      "2471/2471 [==============================] - 0s 113us/step - loss: 0.5632 - acc: 0.1174 - val_loss: 0.5912 - val_acc: 0.1068\n",
      "Epoch 49/200\n",
      "2471/2471 [==============================] - 0s 146us/step - loss: 0.6088 - acc: 0.1101 - val_loss: 0.5815 - val_acc: 0.1117\n",
      "Epoch 50/200\n",
      "2471/2471 [==============================] - 0s 109us/step - loss: 0.5863 - acc: 0.1105 - val_loss: 0.6149 - val_acc: 0.0939\n",
      "Epoch 51/200\n",
      "2471/2471 [==============================] - 0s 107us/step - loss: 0.5733 - acc: 0.1161 - val_loss: 0.5841 - val_acc: 0.1084\n",
      "Epoch 52/200\n",
      "2471/2471 [==============================] - 0s 107us/step - loss: 0.5610 - acc: 0.1161 - val_loss: 0.5558 - val_acc: 0.1149\n",
      "Epoch 53/200\n",
      "2471/2471 [==============================] - 0s 135us/step - loss: 0.5655 - acc: 0.1149 - val_loss: 0.5825 - val_acc: 0.1133\n",
      "Epoch 54/200\n",
      "2471/2471 [==============================] - 0s 183us/step - loss: 0.5844 - acc: 0.1076 - val_loss: 0.5670 - val_acc: 0.1133\n",
      "Epoch 55/200\n",
      "2471/2471 [==============================] - 0s 144us/step - loss: 0.5954 - acc: 0.1121 - val_loss: 0.6175 - val_acc: 0.0955\n",
      "Epoch 56/200\n",
      "2471/2471 [==============================] - 0s 111us/step - loss: 0.5777 - acc: 0.1149 - val_loss: 0.5611 - val_acc: 0.1149\n",
      "Epoch 57/200\n",
      "2471/2471 [==============================] - 0s 106us/step - loss: 0.5592 - acc: 0.1182 - val_loss: 0.6088 - val_acc: 0.1149\n",
      "Epoch 58/200\n",
      "2471/2471 [==============================] - 0s 121us/step - loss: 0.5635 - acc: 0.1137 - val_loss: 0.6203 - val_acc: 0.1117\n",
      "Epoch 59/200\n",
      "2471/2471 [==============================] - 0s 197us/step - loss: 0.5837 - acc: 0.1161 - val_loss: 0.5647 - val_acc: 0.1117\n",
      "Epoch 60/200\n",
      "2471/2471 [==============================] - 0s 175us/step - loss: 0.5874 - acc: 0.1101 - val_loss: 0.5736 - val_acc: 0.1149\n",
      "Epoch 61/200\n",
      "2471/2471 [==============================] - 0s 165us/step - loss: 0.5960 - acc: 0.1125 - val_loss: 0.5818 - val_acc: 0.1133\n",
      "Epoch 62/200\n",
      "2471/2471 [==============================] - 1s 219us/step - loss: 0.5606 - acc: 0.1141 - val_loss: 0.5804 - val_acc: 0.0987\n",
      "Epoch 63/200\n",
      "2471/2471 [==============================] - 0s 184us/step - loss: 0.5877 - acc: 0.1101 - val_loss: 0.6036 - val_acc: 0.0971\n",
      "Epoch 64/200\n",
      "2471/2471 [==============================] - 0s 143us/step - loss: 0.5911 - acc: 0.1129 - val_loss: 0.5729 - val_acc: 0.1133\n",
      "Epoch 65/200\n",
      "2471/2471 [==============================] - 0s 141us/step - loss: 0.5689 - acc: 0.1137 - val_loss: 0.5775 - val_acc: 0.1019\n",
      "Epoch 66/200\n",
      "2471/2471 [==============================] - 0s 133us/step - loss: 0.5600 - acc: 0.1113 - val_loss: 0.5809 - val_acc: 0.1149\n",
      "Epoch 67/200\n",
      "2471/2471 [==============================] - 0s 109us/step - loss: 0.5565 - acc: 0.1141 - val_loss: 0.5986 - val_acc: 0.1117\n",
      "Epoch 68/200\n",
      "2471/2471 [==============================] - 0s 132us/step - loss: 0.5508 - acc: 0.1137 - val_loss: 0.5510 - val_acc: 0.1133\n",
      "Epoch 69/200\n",
      "2471/2471 [==============================] - 0s 127us/step - loss: 0.5406 - acc: 0.1166 - val_loss: 0.5489 - val_acc: 0.1181\n",
      "Epoch 70/200\n",
      "2471/2471 [==============================] - ETA: 0s - loss: 0.5424 - acc: 0.116 - 0s 121us/step - loss: 0.5451 - acc: 0.1170 - val_loss: 0.5457 - val_acc: 0.1100\n",
      "Epoch 71/200\n",
      "2471/2471 [==============================] - 0s 127us/step - loss: 0.5784 - acc: 0.1149 - val_loss: 0.5570 - val_acc: 0.1133\n",
      "Epoch 72/200\n",
      "2471/2471 [==============================] - 0s 115us/step - loss: 0.5649 - acc: 0.1153 - val_loss: 0.5632 - val_acc: 0.1084\n",
      "Epoch 73/200\n",
      "2471/2471 [==============================] - 0s 106us/step - loss: 0.5450 - acc: 0.1178 - val_loss: 0.5471 - val_acc: 0.1149\n",
      "Epoch 74/200\n",
      "2471/2471 [==============================] - 0s 99us/step - loss: 0.5325 - acc: 0.1194 - val_loss: 0.5397 - val_acc: 0.1165\n",
      "Epoch 75/200\n",
      "2471/2471 [==============================] - 0s 121us/step - loss: 0.5538 - acc: 0.1117 - val_loss: 0.5885 - val_acc: 0.1117\n",
      "Epoch 76/200\n",
      "2471/2471 [==============================] - 0s 106us/step - loss: 0.5827 - acc: 0.1060 - val_loss: 0.5464 - val_acc: 0.1133\n",
      "Epoch 77/200\n",
      "2471/2471 [==============================] - 0s 99us/step - loss: 0.5351 - acc: 0.1153 - val_loss: 0.5344 - val_acc: 0.1149\n",
      "Epoch 78/200\n",
      "2471/2471 [==============================] - 0s 101us/step - loss: 0.5535 - acc: 0.1161 - val_loss: 0.5392 - val_acc: 0.1149\n",
      "Epoch 79/200\n",
      "2471/2471 [==============================] - 0s 96us/step - loss: 0.5480 - acc: 0.1137 - val_loss: 0.5382 - val_acc: 0.1165\n",
      "Epoch 80/200\n",
      "2471/2471 [==============================] - 0s 95us/step - loss: 0.5358 - acc: 0.1178 - val_loss: 0.5544 - val_acc: 0.1133\n",
      "Epoch 81/200\n",
      "2471/2471 [==============================] - 0s 94us/step - loss: 0.5287 - acc: 0.1190 - val_loss: 0.5510 - val_acc: 0.1019\n",
      "Epoch 82/200\n",
      "2471/2471 [==============================] - 0s 99us/step - loss: 0.5433 - acc: 0.1174 - val_loss: 0.5361 - val_acc: 0.1149\n",
      "Epoch 83/200\n",
      "2471/2471 [==============================] - 0s 101us/step - loss: 0.5285 - acc: 0.1182 - val_loss: 0.5380 - val_acc: 0.1165\n",
      "Epoch 84/200\n",
      "2471/2471 [==============================] - 0s 104us/step - loss: 0.5300 - acc: 0.1186 - val_loss: 0.5411 - val_acc: 0.1165\n",
      "Epoch 85/200\n",
      "2471/2471 [==============================] - 0s 98us/step - loss: 0.5322 - acc: 0.1182 - val_loss: 0.5424 - val_acc: 0.1133\n",
      "Epoch 86/200\n",
      "2471/2471 [==============================] - 0s 99us/step - loss: 0.5423 - acc: 0.1157 - val_loss: 0.6163 - val_acc: 0.1133\n",
      "Epoch 87/200\n",
      "2471/2471 [==============================] - 0s 119us/step - loss: 0.5466 - acc: 0.1174 - val_loss: 0.5469 - val_acc: 0.1149\n",
      "Epoch 88/200\n",
      "2471/2471 [==============================] - 0s 98us/step - loss: 0.5379 - acc: 0.1153 - val_loss: 0.5502 - val_acc: 0.1117\n",
      "Epoch 89/200\n",
      "2471/2471 [==============================] - 0s 94us/step - loss: 0.5597 - acc: 0.1145 - val_loss: 0.6049 - val_acc: 0.1149\n",
      "Epoch 90/200\n",
      "2471/2471 [==============================] - 0s 91us/step - loss: 0.5542 - acc: 0.1133 - val_loss: 0.5531 - val_acc: 0.1133\n",
      "Epoch 91/200\n",
      "2471/2471 [==============================] - 0s 107us/step - loss: 0.5352 - acc: 0.1174 - val_loss: 0.5332 - val_acc: 0.1165\n",
      "Epoch 92/200\n",
      "2471/2471 [==============================] - 0s 120us/step - loss: 0.5320 - acc: 0.1186 - val_loss: 0.5315 - val_acc: 0.1133\n",
      "Epoch 93/200\n",
      "2471/2471 [==============================] - 0s 114us/step - loss: 0.5226 - acc: 0.1182 - val_loss: 0.5330 - val_acc: 0.1133\n",
      "Epoch 94/200\n",
      "2471/2471 [==============================] - 0s 109us/step - loss: 0.5246 - acc: 0.1202 - val_loss: 0.5658 - val_acc: 0.1133\n",
      "Epoch 95/200\n",
      "2471/2471 [==============================] - 0s 138us/step - loss: 0.5345 - acc: 0.1190 - val_loss: 0.5418 - val_acc: 0.1149\n",
      "Epoch 96/200\n",
      "2471/2471 [==============================] - 0s 127us/step - loss: 0.5171 - acc: 0.1182 - val_loss: 0.5255 - val_acc: 0.1149\n",
      "Epoch 97/200\n",
      "2471/2471 [==============================] - 0s 128us/step - loss: 0.5255 - acc: 0.1190 - val_loss: 0.5358 - val_acc: 0.1133\n",
      "Epoch 98/200\n",
      "2471/2471 [==============================] - 0s 128us/step - loss: 0.5287 - acc: 0.1174 - val_loss: 0.5334 - val_acc: 0.1149\n",
      "Epoch 99/200\n",
      "2471/2471 [==============================] - 0s 106us/step - loss: 0.5261 - acc: 0.1182 - val_loss: 0.5267 - val_acc: 0.1165\n",
      "Epoch 100/200\n",
      "2471/2471 [==============================] - 0s 142us/step - loss: 0.5206 - acc: 0.1190 - val_loss: 0.5323 - val_acc: 0.1149\n",
      "Epoch 101/200\n",
      "2471/2471 [==============================] - 0s 148us/step - loss: 0.5269 - acc: 0.1174 - val_loss: 0.5398 - val_acc: 0.1165\n",
      "Epoch 102/200\n",
      "2471/2471 [==============================] - 0s 151us/step - loss: 0.5161 - acc: 0.1190 - val_loss: 0.5896 - val_acc: 0.1019\n",
      "Epoch 103/200\n",
      "2471/2471 [==============================] - 0s 105us/step - loss: 0.5552 - acc: 0.1157 - val_loss: 0.5478 - val_acc: 0.1133\n",
      "Epoch 104/200\n",
      "2471/2471 [==============================] - 0s 101us/step - loss: 0.5295 - acc: 0.1182 - val_loss: 0.5345 - val_acc: 0.1149\n",
      "Epoch 105/200\n",
      "2471/2471 [==============================] - 0s 104us/step - loss: 0.5158 - acc: 0.1182 - val_loss: 0.5279 - val_acc: 0.1165\n",
      "Epoch 106/200\n",
      "2471/2471 [==============================] - 0s 99us/step - loss: 0.5228 - acc: 0.1190 - val_loss: 0.5197 - val_acc: 0.1165\n",
      "Epoch 107/200\n",
      "2471/2471 [==============================] - 0s 108us/step - loss: 0.5150 - acc: 0.1182 - val_loss: 0.5473 - val_acc: 0.1100\n",
      "Epoch 108/200\n",
      "2471/2471 [==============================] - 0s 105us/step - loss: 0.5175 - acc: 0.1178 - val_loss: 0.5228 - val_acc: 0.1149\n",
      "Epoch 109/200\n",
      "2471/2471 [==============================] - 0s 115us/step - loss: 0.5069 - acc: 0.1206 - val_loss: 0.5134 - val_acc: 0.1165\n",
      "Epoch 110/200\n",
      "2471/2471 [==============================] - 0s 109us/step - loss: 0.5421 - acc: 0.1141 - val_loss: 0.5696 - val_acc: 0.1133\n",
      "Epoch 111/200\n",
      "2471/2471 [==============================] - 0s 108us/step - loss: 0.5315 - acc: 0.1141 - val_loss: 0.5281 - val_acc: 0.1100\n",
      "Epoch 112/200\n",
      "2471/2471 [==============================] - 0s 106us/step - loss: 0.5138 - acc: 0.1194 - val_loss: 0.5180 - val_acc: 0.1165\n",
      "Epoch 113/200\n",
      "2471/2471 [==============================] - 0s 108us/step - loss: 0.5156 - acc: 0.1198 - val_loss: 0.5218 - val_acc: 0.1149\n",
      "Epoch 114/200\n",
      "2471/2471 [==============================] - 0s 104us/step - loss: 0.5151 - acc: 0.1194 - val_loss: 0.5479 - val_acc: 0.1117\n",
      "Epoch 115/200\n",
      "2471/2471 [==============================] - 0s 99us/step - loss: 0.5109 - acc: 0.1190 - val_loss: 0.5283 - val_acc: 0.1117\n",
      "Epoch 116/200\n",
      "2471/2471 [==============================] - 0s 100us/step - loss: 0.5090 - acc: 0.1194 - val_loss: 0.5206 - val_acc: 0.1149\n",
      "Epoch 117/200\n",
      "2471/2471 [==============================] - 0s 101us/step - loss: 0.5231 - acc: 0.1161 - val_loss: 0.5818 - val_acc: 0.1133\n",
      "Epoch 118/200\n",
      "2471/2471 [==============================] - 0s 96us/step - loss: 0.5250 - acc: 0.1198 - val_loss: 0.5196 - val_acc: 0.1133\n",
      "Epoch 119/200\n"
     ]
    },
    {
     "name": "stdout",
     "output_type": "stream",
     "text": [
      "2471/2471 [==============================] - 0s 103us/step - loss: 0.5257 - acc: 0.1170 - val_loss: 0.5243 - val_acc: 0.1165\n",
      "Epoch 120/200\n",
      "2471/2471 [==============================] - 0s 99us/step - loss: 0.5121 - acc: 0.1202 - val_loss: 0.5373 - val_acc: 0.1133\n",
      "Epoch 121/200\n",
      "2471/2471 [==============================] - 0s 93us/step - loss: 0.5196 - acc: 0.1170 - val_loss: 0.5349 - val_acc: 0.1133\n",
      "Epoch 122/200\n",
      "2471/2471 [==============================] - 0s 90us/step - loss: 0.5195 - acc: 0.1170 - val_loss: 0.5217 - val_acc: 0.1149\n",
      "Epoch 123/200\n",
      "2471/2471 [==============================] - 0s 91us/step - loss: 0.5181 - acc: 0.1174 - val_loss: 0.5359 - val_acc: 0.1149\n",
      "Epoch 124/200\n",
      "2471/2471 [==============================] - 0s 90us/step - loss: 0.5228 - acc: 0.1198 - val_loss: 0.5240 - val_acc: 0.1133\n",
      "Epoch 125/200\n",
      "2471/2471 [==============================] - 0s 91us/step - loss: 0.5180 - acc: 0.1182 - val_loss: 0.5184 - val_acc: 0.1149\n",
      "Epoch 126/200\n",
      "2471/2471 [==============================] - 0s 91us/step - loss: 0.5095 - acc: 0.1194 - val_loss: 0.5149 - val_acc: 0.1165\n",
      "Epoch 127/200\n",
      "2471/2471 [==============================] - 0s 92us/step - loss: 0.5177 - acc: 0.1178 - val_loss: 0.5120 - val_acc: 0.1165\n",
      "Epoch 128/200\n",
      "2471/2471 [==============================] - 0s 91us/step - loss: 0.5087 - acc: 0.1186 - val_loss: 0.5127 - val_acc: 0.1165\n",
      "Epoch 129/200\n",
      "2471/2471 [==============================] - 0s 94us/step - loss: 0.5129 - acc: 0.1182 - val_loss: 0.5491 - val_acc: 0.1149\n",
      "Epoch 130/200\n",
      "2471/2471 [==============================] - 0s 97us/step - loss: 0.5151 - acc: 0.1182 - val_loss: 0.5152 - val_acc: 0.1149\n",
      "Epoch 131/200\n",
      "2471/2471 [==============================] - 0s 93us/step - loss: 0.5119 - acc: 0.1182 - val_loss: 0.5140 - val_acc: 0.1165\n",
      "Epoch 132/200\n",
      "2471/2471 [==============================] - 0s 102us/step - loss: 0.5101 - acc: 0.1194 - val_loss: 0.5122 - val_acc: 0.1181\n",
      "Epoch 133/200\n",
      "2471/2471 [==============================] - 0s 94us/step - loss: 0.5062 - acc: 0.1198 - val_loss: 0.5184 - val_acc: 0.1149\n",
      "Epoch 134/200\n",
      "2471/2471 [==============================] - 0s 102us/step - loss: 0.5118 - acc: 0.1190 - val_loss: 0.5122 - val_acc: 0.1197\n",
      "Epoch 135/200\n",
      "2471/2471 [==============================] - 0s 100us/step - loss: 0.5041 - acc: 0.1202 - val_loss: 0.5242 - val_acc: 0.1149\n",
      "Epoch 136/200\n",
      "2471/2471 [==============================] - 0s 94us/step - loss: 0.5022 - acc: 0.1194 - val_loss: 0.5243 - val_acc: 0.1165\n",
      "Epoch 137/200\n",
      "2471/2471 [==============================] - 0s 95us/step - loss: 0.5067 - acc: 0.1190 - val_loss: 0.5255 - val_acc: 0.1165\n",
      "Epoch 138/200\n",
      "2471/2471 [==============================] - 0s 96us/step - loss: 0.5146 - acc: 0.1178 - val_loss: 0.5177 - val_acc: 0.1165\n",
      "Epoch 139/200\n",
      "2471/2471 [==============================] - 0s 92us/step - loss: 0.5088 - acc: 0.1186 - val_loss: 0.5205 - val_acc: 0.1149\n",
      "Epoch 140/200\n",
      "2471/2471 [==============================] - 0s 91us/step - loss: 0.5054 - acc: 0.1186 - val_loss: 0.5224 - val_acc: 0.1165\n",
      "Epoch 141/200\n",
      "2471/2471 [==============================] - 0s 93us/step - loss: 0.5214 - acc: 0.1194 - val_loss: 0.5197 - val_acc: 0.1165\n",
      "Epoch 142/200\n",
      "2471/2471 [==============================] - 0s 105us/step - loss: 0.5078 - acc: 0.1194 - val_loss: 0.5093 - val_acc: 0.1165\n",
      "Epoch 143/200\n",
      "2471/2471 [==============================] - 0s 99us/step - loss: 0.5057 - acc: 0.1194 - val_loss: 0.5126 - val_acc: 0.1149\n",
      "Epoch 144/200\n",
      "2471/2471 [==============================] - 0s 102us/step - loss: 0.5111 - acc: 0.1198 - val_loss: 0.5188 - val_acc: 0.1165\n",
      "Epoch 145/200\n",
      "2471/2471 [==============================] - 0s 105us/step - loss: 0.5082 - acc: 0.1190 - val_loss: 0.5143 - val_acc: 0.1149\n",
      "Epoch 146/200\n",
      "2471/2471 [==============================] - 0s 96us/step - loss: 0.4992 - acc: 0.1202 - val_loss: 0.5190 - val_acc: 0.1149\n",
      "Epoch 147/200\n",
      "2471/2471 [==============================] - 0s 94us/step - loss: 0.5082 - acc: 0.1190 - val_loss: 0.5080 - val_acc: 0.1165\n",
      "Epoch 148/200\n",
      "2471/2471 [==============================] - 0s 91us/step - loss: 0.5064 - acc: 0.1186 - val_loss: 0.5191 - val_acc: 0.1149\n",
      "Epoch 149/200\n",
      "2471/2471 [==============================] - 0s 97us/step - loss: 0.5051 - acc: 0.1190 - val_loss: 0.5140 - val_acc: 0.1165\n",
      "Epoch 150/200\n",
      "2471/2471 [==============================] - 0s 105us/step - loss: 0.5100 - acc: 0.1182 - val_loss: 0.5224 - val_acc: 0.1133\n",
      "Epoch 151/200\n",
      "2471/2471 [==============================] - 0s 98us/step - loss: 0.5100 - acc: 0.1198 - val_loss: 0.5109 - val_acc: 0.1149\n",
      "Epoch 152/200\n",
      "2471/2471 [==============================] - 0s 94us/step - loss: 0.5048 - acc: 0.1186 - val_loss: 0.5088 - val_acc: 0.1165\n",
      "Epoch 153/200\n",
      "2471/2471 [==============================] - 0s 104us/step - loss: 0.5059 - acc: 0.1194 - val_loss: 0.5256 - val_acc: 0.1133\n",
      "Epoch 154/200\n",
      "2471/2471 [==============================] - 0s 103us/step - loss: 0.5119 - acc: 0.1194 - val_loss: 0.5170 - val_acc: 0.1181\n",
      "Epoch 155/200\n",
      "2471/2471 [==============================] - 0s 106us/step - loss: 0.5059 - acc: 0.1190 - val_loss: 0.5248 - val_acc: 0.1165\n",
      "Epoch 156/200\n",
      "2471/2471 [==============================] - 0s 106us/step - loss: 0.5142 - acc: 0.1186 - val_loss: 0.5238 - val_acc: 0.1165\n",
      "Epoch 157/200\n",
      "2471/2471 [==============================] - 0s 105us/step - loss: 0.5082 - acc: 0.1210 - val_loss: 0.5132 - val_acc: 0.1149\n",
      "Epoch 158/200\n",
      "2471/2471 [==============================] - 0s 93us/step - loss: 0.5053 - acc: 0.1178 - val_loss: 0.5133 - val_acc: 0.1165\n",
      "Epoch 159/200\n",
      "2471/2471 [==============================] - 0s 91us/step - loss: 0.5015 - acc: 0.1202 - val_loss: 0.5088 - val_acc: 0.1181\n",
      "Epoch 160/200\n",
      "2471/2471 [==============================] - 0s 98us/step - loss: 0.5012 - acc: 0.1210 - val_loss: 0.5154 - val_acc: 0.1181\n",
      "Epoch 161/200\n",
      "2471/2471 [==============================] - 0s 100us/step - loss: 0.4987 - acc: 0.1214 - val_loss: 0.5090 - val_acc: 0.1181\n",
      "Epoch 162/200\n",
      "2471/2471 [==============================] - 0s 101us/step - loss: 0.5034 - acc: 0.1202 - val_loss: 0.5447 - val_acc: 0.1117\n",
      "Epoch 163/200\n",
      "2471/2471 [==============================] - 0s 93us/step - loss: 0.5126 - acc: 0.1186 - val_loss: 0.5101 - val_acc: 0.1165\n",
      "Epoch 164/200\n",
      "2471/2471 [==============================] - 0s 101us/step - loss: 0.5096 - acc: 0.1186 - val_loss: 0.5130 - val_acc: 0.1165\n",
      "Epoch 165/200\n",
      "2471/2471 [==============================] - 0s 99us/step - loss: 0.5006 - acc: 0.1202 - val_loss: 0.5169 - val_acc: 0.1165\n",
      "Epoch 166/200\n",
      "2471/2471 [==============================] - 0s 105us/step - loss: 0.5094 - acc: 0.1194 - val_loss: 0.5115 - val_acc: 0.1181\n",
      "Epoch 167/200\n",
      "2471/2471 [==============================] - 0s 107us/step - loss: 0.5247 - acc: 0.1166 - val_loss: 0.5178 - val_acc: 0.1181\n",
      "Epoch 168/200\n",
      "2471/2471 [==============================] - 0s 104us/step - loss: 0.5109 - acc: 0.1202 - val_loss: 0.5406 - val_acc: 0.1133\n",
      "Epoch 169/200\n",
      "2471/2471 [==============================] - 0s 97us/step - loss: 0.5065 - acc: 0.1198 - val_loss: 0.5103 - val_acc: 0.1165\n",
      "Epoch 170/200\n",
      "2471/2471 [==============================] - 0s 109us/step - loss: 0.4970 - acc: 0.1198 - val_loss: 0.5084 - val_acc: 0.1165\n",
      "Epoch 171/200\n",
      "2471/2471 [==============================] - 0s 114us/step - loss: 0.5031 - acc: 0.1190 - val_loss: 0.5643 - val_acc: 0.1084\n",
      "Epoch 172/200\n",
      "2471/2471 [==============================] - 0s 115us/step - loss: 0.5048 - acc: 0.1186 - val_loss: 0.5124 - val_acc: 0.1165\n",
      "Epoch 173/200\n",
      "2471/2471 [==============================] - 0s 111us/step - loss: 0.5049 - acc: 0.1194 - val_loss: 0.5316 - val_acc: 0.1133\n",
      "Epoch 174/200\n",
      "2471/2471 [==============================] - 0s 114us/step - loss: 0.4992 - acc: 0.1218 - val_loss: 0.5154 - val_acc: 0.1165\n",
      "Epoch 175/200\n",
      "2471/2471 [==============================] - 0s 108us/step - loss: 0.5092 - acc: 0.1198 - val_loss: 0.5081 - val_acc: 0.1197\n",
      "Epoch 176/200\n",
      "2471/2471 [==============================] - 0s 101us/step - loss: 0.5006 - acc: 0.1202 - val_loss: 0.5066 - val_acc: 0.1181\n",
      "Epoch 177/200\n",
      "2471/2471 [==============================] - 0s 103us/step - loss: 0.4984 - acc: 0.1198 - val_loss: 0.5060 - val_acc: 0.1197\n",
      "Epoch 178/200\n",
      "2471/2471 [==============================] - 0s 102us/step - loss: 0.5011 - acc: 0.1206 - val_loss: 0.5190 - val_acc: 0.1149\n",
      "Epoch 179/200\n",
      "2471/2471 [==============================] - 0s 105us/step - loss: 0.5120 - acc: 0.1182 - val_loss: 0.5107 - val_acc: 0.1181\n",
      "Epoch 180/200\n",
      "2471/2471 [==============================] - 0s 101us/step - loss: 0.5090 - acc: 0.1174 - val_loss: 0.5083 - val_acc: 0.1181\n",
      "Epoch 181/200\n",
      "2471/2471 [==============================] - 0s 101us/step - loss: 0.5037 - acc: 0.1178 - val_loss: 0.5340 - val_acc: 0.1133\n",
      "Epoch 182/200\n",
      "2471/2471 [==============================] - 0s 100us/step - loss: 0.5178 - acc: 0.1186 - val_loss: 0.5700 - val_acc: 0.1133\n",
      "Epoch 183/200\n",
      "2471/2471 [==============================] - 0s 102us/step - loss: 0.5188 - acc: 0.1170 - val_loss: 0.5136 - val_acc: 0.1165\n",
      "Epoch 184/200\n",
      "2471/2471 [==============================] - 0s 93us/step - loss: 0.5030 - acc: 0.1194 - val_loss: 0.5102 - val_acc: 0.1181\n",
      "Epoch 185/200\n",
      "2471/2471 [==============================] - 0s 93us/step - loss: 0.5044 - acc: 0.1206 - val_loss: 0.5126 - val_acc: 0.1181\n",
      "Epoch 186/200\n",
      "2471/2471 [==============================] - 0s 89us/step - loss: 0.4978 - acc: 0.1210 - val_loss: 0.5068 - val_acc: 0.1197\n",
      "Epoch 187/200\n",
      "2471/2471 [==============================] - 0s 91us/step - loss: 0.4953 - acc: 0.1218 - val_loss: 0.5051 - val_acc: 0.1197\n",
      "Epoch 188/200\n",
      "2471/2471 [==============================] - 0s 91us/step - loss: 0.5109 - acc: 0.1174 - val_loss: 0.5152 - val_acc: 0.1149\n",
      "Epoch 189/200\n",
      "2471/2471 [==============================] - 0s 95us/step - loss: 0.5080 - acc: 0.1198 - val_loss: 0.5189 - val_acc: 0.1165\n",
      "Epoch 190/200\n",
      "2471/2471 [==============================] - 0s 102us/step - loss: 0.5024 - acc: 0.1202 - val_loss: 0.5252 - val_acc: 0.1149\n",
      "Epoch 191/200\n",
      "2471/2471 [==============================] - 0s 98us/step - loss: 0.4994 - acc: 0.1194 - val_loss: 0.5063 - val_acc: 0.1181\n",
      "Epoch 192/200\n",
      "2471/2471 [==============================] - 0s 104us/step - loss: 0.4956 - acc: 0.1210 - val_loss: 0.5041 - val_acc: 0.1181\n",
      "Epoch 193/200\n",
      "2471/2471 [==============================] - 0s 100us/step - loss: 0.4974 - acc: 0.1206 - val_loss: 0.5060 - val_acc: 0.1181\n",
      "Epoch 194/200\n",
      "2471/2471 [==============================] - 0s 101us/step - loss: 0.5015 - acc: 0.1210 - val_loss: 0.5097 - val_acc: 0.1149\n",
      "Epoch 195/200\n",
      "2471/2471 [==============================] - 0s 100us/step - loss: 0.4967 - acc: 0.1202 - val_loss: 0.5166 - val_acc: 0.1149\n",
      "Epoch 196/200\n",
      "2471/2471 [==============================] - 0s 97us/step - loss: 0.5012 - acc: 0.1206 - val_loss: 0.5118 - val_acc: 0.1165\n",
      "Epoch 197/200\n",
      "2471/2471 [==============================] - 0s 94us/step - loss: 0.5030 - acc: 0.1210 - val_loss: 0.5163 - val_acc: 0.1149\n",
      "Epoch 198/200\n",
      "2471/2471 [==============================] - 0s 104us/step - loss: 0.4945 - acc: 0.1210 - val_loss: 0.5116 - val_acc: 0.1165\n",
      "Epoch 199/200\n",
      "2471/2471 [==============================] - 0s 105us/step - loss: 0.4931 - acc: 0.1206 - val_loss: 0.5072 - val_acc: 0.1181\n",
      "Epoch 200/200\n",
      "2471/2471 [==============================] - 0s 110us/step - loss: 0.5086 - acc: 0.1182 - val_loss: 0.5490 - val_acc: 0.1003\n"
     ]
    }
   ],
   "source": [
    "# Fit the model\n",
    "history = model.fit(X_train, y_train, epochs=EPOCHS, batch_size=MINI_BATCH_SIZE, validation_data=(X_val, y_val))"
   ]
  },
  {
   "cell_type": "markdown",
   "metadata": {},
   "source": [
    "## Training metrics"
   ]
  },
  {
   "cell_type": "code",
   "execution_count": 355,
   "metadata": {},
   "outputs": [
    {
     "data": {
      "image/png": "[encoded data removed]",
      "text/plain": [
       "<Figure size 432x288 with 1 Axes>"
      ]
     },
     "metadata": {
      "needs_background": "light"
     },
     "output_type": "display_data"
    }
   ],
   "source": [
    "# Plot training & validation accuracy values\n",
    "plt.plot(history.history['acc'])\n",
    "plt.plot(history.history['val_acc'])\n",
    "plt.title('Model accuracy')\n",
    "plt.ylabel('Accuracy')\n",
    "plt.xlabel('Epoch')\n",
    "plt.legend(['Train', 'Validation'], loc='upper left')\n",
    "plt.show()"
   ]
  },
  {
   "cell_type": "code",
   "execution_count": 356,
   "metadata": {},
   "outputs": [
    {
     "data": {
      "image/png": "[encoded data removed]",
      "text/plain": [
       "<Figure size 432x288 with 1 Axes>"
      ]
     },
     "metadata": {
      "needs_background": "light"
     },
     "output_type": "display_data"
    }
   ],
   "source": [
    "# Plot training & validation loss values\n",
    "plt.plot(history.history['loss'])\n",
    "plt.plot(history.history['val_loss'])\n",
    "plt.title('Model loss')\n",
    "plt.ylabel('Loss')\n",
    "plt.xlabel('Epoch')\n",
    "plt.legend(['Train', 'Validation'], loc='upper left')\n",
    "plt.show()"
   ]
  },
  {
   "cell_type": "markdown",
   "metadata": {},
   "source": [
    "## Evaluate model"
   ]
  },
  {
   "cell_type": "code",
   "execution_count": 358,
   "metadata": {},
   "outputs": [
    {
     "name": "stdout",
     "output_type": "stream",
     "text": [
      "618/618 [==============================] - 0s 58us/step\n",
      "\n",
      "acc: 11.81%\n"
     ]
    }
   ],
   "source": [
    "# evaluate the model\n",
    "scores = model.evaluate(X_val, y_val)\n",
    "print(\"\\n%s: %.2f%%\" % (model.metrics_names[1], scores[1]*100))"
   ]
  },
  {
   "cell_type": "code",
   "execution_count": null,
   "metadata": {},
   "outputs": [],
   "source": []
  }
 ],
 "metadata": {
  "kernelspec": {
   "display_name": "Python 3",
   "language": "python",
   "name": "python3"
  },
  "language_info": {
   "codemirror_mode": {
    "name": "ipython",
    "version": 3
   },
   "file_extension": ".py",
   "mimetype": "text/x-python",
   "name": "python",
   "nbconvert_exporter": "python",
   "pygments_lexer": "ipython3",
   "version": "3.7.3"
  }
 },
 "nbformat": 4,
 "nbformat_minor": 2
}
